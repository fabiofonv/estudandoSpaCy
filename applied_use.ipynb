{
 "cells": [
  {
   "cell_type": "code",
   "execution_count": null,
   "metadata": {},
   "outputs": [],
   "source": [
    "import spacy\n",
    "import pandas as pd\n",
    "from spacy import displacy"
   ]
  },
  {
   "cell_type": "code",
   "execution_count": 2,
   "metadata": {},
   "outputs": [],
   "source": [
    "df = pd.read_csv(\"stocks.tsv\", sep=\"\\t\")"
   ]
  },
  {
   "cell_type": "code",
   "execution_count": 3,
   "metadata": {},
   "outputs": [
    {
     "data": {
      "application/vnd.microsoft.datawrangler.viewer.v0+json": {
       "columns": [
        {
         "name": "index",
         "rawType": "int64",
         "type": "integer"
        },
        {
         "name": "Symbol",
         "rawType": "object",
         "type": "string"
        },
        {
         "name": "CompanyName",
         "rawType": "object",
         "type": "string"
        },
        {
         "name": "Industry",
         "rawType": "object",
         "type": "unknown"
        },
        {
         "name": "MarketCap",
         "rawType": "object",
         "type": "string"
        }
       ],
       "conversionMethod": "pd.DataFrame",
       "ref": "37bc952e-3849-4327-b336-5360e18c621e",
       "rows": [
        [
         "0",
         "A",
         "Agilent Technologies",
         "Life Sciences Tools & Services",
         "53.65B"
        ],
        [
         "1",
         "AA",
         "Alcoa",
         "Metals & Mining",
         "9.25B"
        ],
        [
         "2",
         "AAC",
         "Ares Acquisition",
         "Shell Companies",
         "1.22B"
        ],
        [
         "3",
         "AACG",
         "ATA Creativity Global",
         "Diversified Consumer Services",
         "90.35M"
        ],
        [
         "4",
         "AADI",
         "Aadi Bioscience",
         "Pharmaceuticals",
         "104.85M"
        ],
        [
         "5",
         "AAIC",
         "Arlington Asset Investment",
         "Mortgage Real Estate Investment Trus...",
         "120.92M"
        ],
        [
         "6",
         "AAL",
         "American Airlines",
         "Airlines",
         "12.27B"
        ],
        [
         "7",
         "AAMC",
         "Altisource Asset Management",
         "Real Estate Management & Development",
         "57.74M"
        ],
        [
         "8",
         "AAME",
         "Atlantic American",
         "Insurance",
         "80.01M"
        ],
        [
         "9",
         "AAN",
         "The Aaron's Company",
         "Specialty Retail",
         "857.00M"
        ],
        [
         "10",
         "AAOI",
         "Applied Optoelectronics",
         "Communications Equipment",
         "201.66M"
        ],
        [
         "11",
         "AAON",
         "AAON, Inc.",
         "Building Products",
         "3.41B"
        ],
        [
         "12",
         "AAP",
         "Advance Auto Parts",
         "Specialty Retail",
         "12.60B"
        ],
        [
         "13",
         "AAPL",
         "Apple",
         "Technology Hardware, Storage & Periph...",
         "2,462.50B"
        ],
        [
         "14",
         "AAQC",
         "Accelerate Acquisition",
         "Shell Companies",
         "483.00M"
        ],
        [
         "15",
         "AAT",
         "American Assets Trust",
         "Equity Real Estate Investment Trusts...",
         "2.31B"
        ],
        [
         "16",
         "AATC",
         "Autoscope Technologies",
         "Scientific & Technical Instruments",
         "44.17M"
        ],
        [
         "17",
         "AAU",
         "Almaden Minerals",
         "Metals & Mining",
         "56.19M"
        ],
        [
         "18",
         "AAWW",
         "Atlas Air Worldwide Holdings",
         "Air Freight & Logistics",
         "2.15B"
        ],
        [
         "19",
         "AB",
         "AllianceBernstein",
         "Capital Markets",
         "5.17B"
        ],
        [
         "20",
         "ABB",
         "ABB Ltd.",
         "Electrical Equipment",
         "73.77B"
        ],
        [
         "21",
         "ABBV",
         "AbbVie",
         "Biotechnology",
         "188.52B"
        ],
        [
         "22",
         "ABC",
         "AmerisourceBergen",
         "Health Care Providers & Services",
         "25.52B"
        ],
        [
         "23",
         "ABCB",
         "Ameris Bancorp",
         "Banks",
         "3.25B"
        ],
        [
         "24",
         "ABCL",
         "AbCellera Biologics",
         "Biotechnology",
         "5.29B"
        ],
        [
         "25",
         "ABCM",
         "Abcam PLC",
         "Biotechnology",
         "4.76B"
        ],
        [
         "26",
         "ABEO",
         "Abeona Therapeutics",
         "Biotechnology",
         "130.58M"
        ],
        [
         "27",
         "ABEV",
         "Ambev",
         "Beverages",
         "48.73B"
        ],
        [
         "28",
         "ABG",
         "Asbury Automotive Group",
         "Specialty Retail",
         "3.31B"
        ],
        [
         "29",
         "ABGI",
         "ABG Acquisition I",
         "Shell Companies",
         "187.42M"
        ],
        [
         "30",
         "ABIO",
         "ARCA biopharma",
         "Biotechnology",
         "43.95M"
        ],
        [
         "31",
         "ABM",
         "ABM Industries",
         "Commercial Services & Supplies",
         "3.11B"
        ],
        [
         "32",
         "ABMD",
         "Abiomed",
         "Health Care Equipment & Supplies",
         "16.39B"
        ],
        [
         "33",
         "ABNB",
         "Airbnb",
         "Hotels, Restaurants & Leisure",
         "103.85B"
        ],
        [
         "34",
         "ABOS",
         "Acumen Pharmaceuticals",
         "Biotechnology",
         "657.08M"
        ],
        [
         "35",
         "ABR",
         "Arbor Realty Trust",
         "Mortgage Real Estate Investment Trus...",
         "2.56B"
        ],
        [
         "36",
         "ABSI",
         "Absci",
         "Biotechnology",
         "1.27B"
        ],
        [
         "37",
         "ABST",
         "Absolute Software",
         "Software-Application",
         "584.39M"
        ],
        [
         "38",
         "ABT",
         "Abbott Laboratories",
         "Health Care Equipment & Supplies",
         "228.34B"
        ],
        [
         "39",
         "ABTX",
         "Allegiance Bancshares",
         "Banks",
         "711.56M"
        ],
        [
         "40",
         "ABUS",
         "Arbutus Biopharma",
         "Biotechnology",
         "434.33M"
        ],
        [
         "41",
         "ABVC",
         "ABVC BioPharma",
         "Biotechnology",
         "85.65M"
        ],
        [
         "42",
         "AC",
         "Associated Capital Group",
         "Capital Markets",
         "814.56M"
        ],
        [
         "43",
         "ACA",
         "Arcosa",
         "Construction & Engineering",
         "2.38B"
        ],
        [
         "44",
         "ACAD",
         "ACADIA Pharmaceuticals",
         "Biotechnology",
         "2.58B"
        ],
        [
         "45",
         "ACAH",
         "Atlantic Coastal Acquisition",
         "Shell Companies",
         "418.31M"
        ],
        [
         "46",
         "ACB",
         "Aurora Cannabis",
         "Pharmaceuticals",
         "1.31B"
        ],
        [
         "47",
         "ACBA",
         "Ace Global Business Acquisition",
         "Shell Companies",
         "52.80M"
        ],
        [
         "48",
         "ACBI",
         "Atlantic Capital Bancshares",
         "Banks",
         "473.26M"
        ],
        [
         "49",
         "ACC",
         "American Campus Communities",
         "Equity Real Estate Investment Trusts...",
         "6.94B"
        ]
       ],
       "shape": {
        "columns": 4,
        "rows": 5879
       }
      },
      "text/html": [
       "<div>\n",
       "<style scoped>\n",
       "    .dataframe tbody tr th:only-of-type {\n",
       "        vertical-align: middle;\n",
       "    }\n",
       "\n",
       "    .dataframe tbody tr th {\n",
       "        vertical-align: top;\n",
       "    }\n",
       "\n",
       "    .dataframe thead th {\n",
       "        text-align: right;\n",
       "    }\n",
       "</style>\n",
       "<table border=\"1\" class=\"dataframe\">\n",
       "  <thead>\n",
       "    <tr style=\"text-align: right;\">\n",
       "      <th></th>\n",
       "      <th>Symbol</th>\n",
       "      <th>CompanyName</th>\n",
       "      <th>Industry</th>\n",
       "      <th>MarketCap</th>\n",
       "    </tr>\n",
       "  </thead>\n",
       "  <tbody>\n",
       "    <tr>\n",
       "      <th>0</th>\n",
       "      <td>A</td>\n",
       "      <td>Agilent Technologies</td>\n",
       "      <td>Life Sciences Tools &amp; Services</td>\n",
       "      <td>53.65B</td>\n",
       "    </tr>\n",
       "    <tr>\n",
       "      <th>1</th>\n",
       "      <td>AA</td>\n",
       "      <td>Alcoa</td>\n",
       "      <td>Metals &amp; Mining</td>\n",
       "      <td>9.25B</td>\n",
       "    </tr>\n",
       "    <tr>\n",
       "      <th>2</th>\n",
       "      <td>AAC</td>\n",
       "      <td>Ares Acquisition</td>\n",
       "      <td>Shell Companies</td>\n",
       "      <td>1.22B</td>\n",
       "    </tr>\n",
       "    <tr>\n",
       "      <th>3</th>\n",
       "      <td>AACG</td>\n",
       "      <td>ATA Creativity Global</td>\n",
       "      <td>Diversified Consumer Services</td>\n",
       "      <td>90.35M</td>\n",
       "    </tr>\n",
       "    <tr>\n",
       "      <th>4</th>\n",
       "      <td>AADI</td>\n",
       "      <td>Aadi Bioscience</td>\n",
       "      <td>Pharmaceuticals</td>\n",
       "      <td>104.85M</td>\n",
       "    </tr>\n",
       "    <tr>\n",
       "      <th>...</th>\n",
       "      <td>...</td>\n",
       "      <td>...</td>\n",
       "      <td>...</td>\n",
       "      <td>...</td>\n",
       "    </tr>\n",
       "    <tr>\n",
       "      <th>5874</th>\n",
       "      <td>ZWRK</td>\n",
       "      <td>Z-Work Acquisition</td>\n",
       "      <td>Shell Companies</td>\n",
       "      <td>278.88M</td>\n",
       "    </tr>\n",
       "    <tr>\n",
       "      <th>5875</th>\n",
       "      <td>ZY</td>\n",
       "      <td>Zymergen</td>\n",
       "      <td>Chemicals</td>\n",
       "      <td>1.31B</td>\n",
       "    </tr>\n",
       "    <tr>\n",
       "      <th>5876</th>\n",
       "      <td>ZYME</td>\n",
       "      <td>Zymeworks</td>\n",
       "      <td>Biotechnology</td>\n",
       "      <td>1.50B</td>\n",
       "    </tr>\n",
       "    <tr>\n",
       "      <th>5877</th>\n",
       "      <td>ZYNE</td>\n",
       "      <td>Zynerba Pharmaceuticals</td>\n",
       "      <td>Pharmaceuticals</td>\n",
       "      <td>184.39M</td>\n",
       "    </tr>\n",
       "    <tr>\n",
       "      <th>5878</th>\n",
       "      <td>ZYXI</td>\n",
       "      <td>Zynex</td>\n",
       "      <td>Health Care Equipment &amp; Supplies</td>\n",
       "      <td>438.33M</td>\n",
       "    </tr>\n",
       "  </tbody>\n",
       "</table>\n",
       "<p>5879 rows × 4 columns</p>\n",
       "</div>"
      ],
      "text/plain": [
       "     Symbol              CompanyName                          Industry  \\\n",
       "0         A     Agilent Technologies    Life Sciences Tools & Services   \n",
       "1        AA                    Alcoa                   Metals & Mining   \n",
       "2       AAC         Ares Acquisition                   Shell Companies   \n",
       "3      AACG    ATA Creativity Global     Diversified Consumer Services   \n",
       "4      AADI          Aadi Bioscience                   Pharmaceuticals   \n",
       "...     ...                      ...                               ...   \n",
       "5874   ZWRK       Z-Work Acquisition                   Shell Companies   \n",
       "5875     ZY                 Zymergen                         Chemicals   \n",
       "5876   ZYME                Zymeworks                     Biotechnology   \n",
       "5877   ZYNE  Zynerba Pharmaceuticals                   Pharmaceuticals   \n",
       "5878   ZYXI                    Zynex  Health Care Equipment & Supplies   \n",
       "\n",
       "     MarketCap  \n",
       "0       53.65B  \n",
       "1        9.25B  \n",
       "2        1.22B  \n",
       "3       90.35M  \n",
       "4      104.85M  \n",
       "...        ...  \n",
       "5874   278.88M  \n",
       "5875     1.31B  \n",
       "5876     1.50B  \n",
       "5877   184.39M  \n",
       "5878   438.33M  \n",
       "\n",
       "[5879 rows x 4 columns]"
      ]
     },
     "execution_count": 3,
     "metadata": {},
     "output_type": "execute_result"
    }
   ],
   "source": [
    "df"
   ]
  },
  {
   "cell_type": "code",
   "execution_count": 4,
   "metadata": {},
   "outputs": [
    {
     "name": "stdout",
     "output_type": "stream",
     "text": [
      "['A', 'AA', 'AAC', 'AACG', 'AADI', 'AAIC', 'AAL', 'AAMC', 'AAME', 'AAN']\n"
     ]
    }
   ],
   "source": [
    "symbols = df[\"Symbol\"].tolist()\n",
    "companies = df[\"CompanyName\"].tolist()\n",
    "print(symbols[:10])"
   ]
  },
  {
   "cell_type": "code",
   "execution_count": 30,
   "metadata": {},
   "outputs": [],
   "source": [
    "df2 = pd.read_csv(\"indexes.tsv\", sep=\"\\t\")\n",
    "indexes = df2[\"IndexName\"].tolist()\n",
    "index_symbols = df2[\"IndexSymbol\"].tolist()"
   ]
  },
  {
   "cell_type": "code",
   "execution_count": 36,
   "metadata": {},
   "outputs": [],
   "source": [
    "text = '''\n",
    "Sept 10 (Reuters) - Wall Street's main indexes were subdued on Friday as signs of higher inflation and a drop in Apple shares following an unfavorable court ruling offset expectations of an easing in U.S.-China tensions.\n",
    "\n",
    "Data earlier in the day showed U.S. producer prices rose solidly in August, leading to the biggest annual gain in nearly 11 years and indicating that high inflation was likely to persist as the pandemic pressures supply chains. read more .\n",
    "\n",
    "\"Today's data on wholesale prices should be eye-opening for the Federal Reserve, as inflation pressures still don't appear to be easing and will likely continue to be felt by the consumer in the coming months,\" said Charlie Ripley, senior investment strategist for Allianz Investment Management.\n",
    "\n",
    "Apple Inc (AAPL.O) fell 2.7% following a U.S. court ruling in \"Fortnite\" creator Epic Games' antitrust lawsuit that stroke down some of the iPhone maker's restrictions on how developers can collect payments in apps.\n",
    "\n",
    "\n",
    "Sponsored by Advertising Partner\n",
    "Sponsored Video\n",
    "Watch to learn more\n",
    "Report ad\n",
    "Apple shares were set for their worst single-day fall since May this year, weighing on the Nasdaq (.IXIC) and the S&P 500 technology sub-index (.SPLRCT), which fell 0.1%.\n",
    "\n",
    "Sentiment also took a hit from Cleveland Federal Reserve Bank President Loretta Mester's comments that she would still like the central bank to begin tapering asset purchases this year despite the weak August jobs report. read more\n",
    "\n",
    "Investors have paid keen attention to the labor market and data hinting towards higher inflation recently for hints on a timeline for the Federal Reserve to begin tapering its massive bond-buying program.\n",
    "\n",
    "The S&P 500 has risen around 19% so far this year on support from dovish central bank policies and re-opening optimism, but concerns over rising coronavirus infections and accelerating inflation have lately stalled its advance.\n",
    "\n",
    "\n",
    "Report ad\n",
    "The three main U.S. indexes got some support on Friday from news of a phone call between U.S. President Joe Biden and Chinese leader Xi Jinping that was taken as a positive sign which could bring a thaw in ties between the world's two most important trading partners.\n",
    "\n",
    "At 1:01 p.m. ET, the Dow Jones Industrial Average (.DJI) was up 12.24 points, or 0.04%, at 34,891.62, the S&P 500 (.SPX) was up 2.83 points, or 0.06%, at 4,496.11, and the Nasdaq Composite (.IXIC) was up 12.85 points, or 0.08%, at 15,261.11.\n",
    "\n",
    "Six of the eleven S&P 500 sub-indexes gained, with energy (.SPNY), materials (.SPLRCM) and consumer discretionary stocks (.SPLRCD) rising the most.\n",
    "\n",
    "U.S.-listed Chinese e-commerce companies Alibaba and JD.com , music streaming company Tencent Music (TME.N) and electric car maker Nio Inc (NIO.N) all gained between 0.7% and 1.4%\n",
    "\n",
    "\n",
    "Report ad\n",
    "Grocer Kroger Co (KR.N) dropped 7.1% after it said global supply chain disruptions, freight costs, discounts and wastage would hit its profit margins.\n",
    "\n",
    "Advancing issues outnumbered decliners by a 1.12-to-1 ratio on the NYSE and by a 1.02-to-1 ratio on the Nasdaq.\n",
    "\n",
    "The S&P index recorded 14 new 52-week highs and three new lows, while the Nasdaq recorded 49 new highs and 38 new lows.\n",
    "'''"
   ]
  },
  {
   "cell_type": "code",
   "execution_count": 38,
   "metadata": {},
   "outputs": [
    {
     "data": {
      "application/vnd.microsoft.datawrangler.viewer.v0+json": {
       "columns": [
        {
         "name": "index",
         "rawType": "int64",
         "type": "integer"
        },
        {
         "name": "BloombergExchangeCode",
         "rawType": "object",
         "type": "unknown"
        },
        {
         "name": "BloombergCompositeCode",
         "rawType": "object",
         "type": "unknown"
        },
        {
         "name": "Country",
         "rawType": "object",
         "type": "string"
        },
        {
         "name": "Description",
         "rawType": "object",
         "type": "unknown"
        },
        {
         "name": "ISOMIC",
         "rawType": "object",
         "type": "unknown"
        },
        {
         "name": "Google Prefix",
         "rawType": "object",
         "type": "unknown"
        },
        {
         "name": "EODcode",
         "rawType": "object",
         "type": "unknown"
        },
        {
         "name": "NumStocks",
         "rawType": "object",
         "type": "string"
        }
       ],
       "conversionMethod": "pd.DataFrame",
       "ref": "db382b4d-665f-4cb5-84fa-7c9329bb419a",
       "rows": [
        [
         "0",
         "AF",
         "AR",
         "Argentina",
         "Bolsa de Comercio de Buenos Aires",
         "XBUE",
         null,
         "BA",
         "12"
        ],
        [
         "1",
         "AO",
         "AU",
         "Australia",
         "National Stock Exchange of Australia",
         "XNEC",
         null,
         null,
         "1"
        ],
        [
         "2",
         "AT",
         "AU",
         "Australia",
         "Asx - All Markets",
         "XASX",
         "ASX",
         "AU",
         "875"
        ],
        [
         "3",
         "AV",
         null,
         "Austria",
         "Wiener Boerse Ag",
         "XWBO",
         "VIE",
         "VI",
         "38"
        ],
        [
         "4",
         "BI",
         null,
         "Bahrain",
         "Bahrain Bourse",
         "XBAH",
         null,
         null,
         "4"
        ],
        [
         "5",
         "BD",
         null,
         "Bangladesh",
         "Dhaka Stock Exchange Ltd",
         "XDHA",
         null,
         null,
         "18"
        ],
        [
         "6",
         "BB",
         null,
         "Belgium",
         "Nyse Euronext - Euronext Brussels",
         "XBRU",
         "EBR",
         "BR",
         "75"
        ],
        [
         "7",
         "BS",
         "BZ",
         "Brazil",
         "XBSP",
         "BVMF",
         "BVMF",
         "SA",
         "369"
        ],
        [
         "8",
         "CF",
         "CN",
         "Canada",
         "Canadian Securities Exchange",
         "XCNQ",
         null,
         "CN",
         "59"
        ],
        [
         "9",
         "CT",
         "CN",
         "Canada",
         "Toronto Stock Exchange",
         "XTSE",
         "TSE",
         "TO",
         "520"
        ],
        [
         "10",
         "CV",
         "CN",
         "Canada",
         "TSX Venture Exchange",
         "XTSX",
         null,
         "V",
         "138"
        ],
        [
         "11",
         "QF",
         "CN",
         "Canada",
         "Aequitas NEO Exchange (Lit Book)",
         "NEOE",
         null,
         "NEO",
         "2"
        ],
        [
         "12",
         "CC",
         "CI",
         "Chile",
         "Santiago Stock Exchange",
         "XSGO",
         null,
         "SN",
         "65"
        ],
        [
         "13",
         "CG",
         "CH",
         "China",
         "Shanghai Stock Exchange",
         "XSHG",
         "SHA",
         "SHG",
         "1,268"
        ],
        [
         "14",
         "CS",
         "CH",
         "China",
         "Shenzhen Stock Exchange",
         "XSHE",
         "SHE",
         "SHE",
         "1,806"
        ],
        [
         "15",
         "CX",
         "CB",
         "Colombia",
         "Bolsa De Valores De Colombia",
         "XBOG",
         null,
         null,
         "33"
        ],
        [
         "16",
         "ZA",
         "CZ",
         "Croatia",
         "Zagreb Stock Exchange",
         "XZAG",
         null,
         null,
         "1"
        ],
        [
         "17",
         "CY",
         null,
         "Cyprus",
         "Cyprus Stock Exchange",
         "XCYS",
         null,
         null,
         "1"
        ],
        [
         "18",
         "CK",
         "CP",
         "Czech Republic",
         "Prague Stock Exchange",
         "XPRA",
         "PRG",
         null,
         "10"
        ],
        [
         "19",
         "DC",
         null,
         "Denmark",
         "Omx Nordic Exchange Copenhagen A/S",
         "XCSE",
         "CPH",
         "CO",
         "65"
        ],
        [
         "20",
         "EC",
         "EY",
         "Egypt",
         "Egyptian Exchange",
         "XCAI",
         "CAI",
         null,
         "33"
        ],
        [
         "21",
         "FH",
         null,
         "Finland",
         "Nasdaq Omx Helsinki Ltd.",
         "XHEL",
         "HEL",
         "HE",
         "74"
        ],
        [
         "22",
         "FP",
         null,
         "France",
         "Euronext Paris",
         "XPAR",
         "EPA",
         "PA",
         "236"
        ],
        [
         "23",
         "BQ",
         "GR",
         "Germany",
         "Equiduct Trading",
         "XEQT",
         null,
         null,
         "3"
        ],
        [
         "24",
         "GB",
         "GR",
         "Germany",
         "Boerse Berlin",
         "XBER",
         "FRA",
         "BE",
         "3"
        ],
        [
         "25",
         "GD",
         "GR",
         "Germany",
         "Dusseldorf Stock Exchange",
         "XDUS",
         null,
         "DU",
         "1"
        ],
        [
         "26",
         "GF",
         "GR",
         "Germany",
         "Frankfurt Stock Exchange",
         "XFRA",
         "FRA",
         "F",
         "167"
        ],
        [
         "27",
         "GM",
         "GR",
         "Germany",
         "Munich Stock Exchange",
         "XMUN",
         null,
         "MU",
         "1"
        ],
        [
         "28",
         "GS",
         "GR",
         "Germany",
         "Stuttgart Stock Exchange",
         "XSTU",
         null,
         "STU",
         "1"
        ],
        [
         "29",
         "GY",
         "GR",
         "Germany",
         "Deutsche Boerse Xetra",
         "XETR",
         "ETR",
         "XETRA",
         "106"
        ],
        [
         "30",
         "QT",
         "GR",
         "Germany",
         "QUOTRIX",
         "XQTX",
         null,
         null,
         "1"
        ],
        [
         "31",
         "GA",
         null,
         "Greece",
         "Athens Exchange S.A. Cash Market",
         "XATH",
         "ATH",
         "AT",
         "28"
        ],
        [
         "32",
         "HK",
         null,
         "Hong Kong",
         "Hong Kong Exchange",
         "XHKG",
         "HKG",
         "HK",
         "1,836"
        ],
        [
         "33",
         "HB",
         null,
         "Hungary",
         "Budapest Stock Exchange",
         "XBUD",
         "BDP",
         "BUD",
         "5"
        ],
        [
         "34",
         "RF",
         null,
         "Iceland",
         "First North Iceland",
         "XICE",
         null,
         null,
         "1"
        ],
        [
         "35",
         "IB",
         "IN",
         "India",
         "BSE LTD",
         "XBOM",
         "BOM",
         "BSE",
         "440"
        ],
        [
         "36",
         "IS",
         "IN",
         "India",
         "National Stock Exchange Of India",
         "XNSE",
         "NSE",
         "NSE",
         "556"
        ],
        [
         "37",
         "IJ",
         null,
         "Indonesia",
         "Indonesia Stock Exchange",
         "XIDX",
         "JAK",
         "JK",
         "130"
        ],
        [
         "38",
         "ID",
         null,
         "Ireland",
         "Irish Stock Exchange - All Market",
         "XDUB",
         "IRE",
         "IR",
         "29"
        ],
        [
         "39",
         "IT",
         null,
         "Israel",
         "Tel Aviv Stock Exchange",
         "XTAE",
         "TLV",
         "TA",
         "161"
        ],
        [
         "40",
         "IM",
         null,
         "Italy",
         "Borsa Italiana S.P.A.",
         "MTAA",
         "BIT",
         "MI",
         "146"
        ],
        [
         "41",
         "JT",
         "JP",
         "Japan",
         "Tokyo Stock Exchange",
         "XTKS",
         "TYO",
         "TSE",
         "1,734"
        ],
        [
         "42",
         "JR",
         null,
         "Jordan",
         "Amman Stock Exchange",
         "XAMM",
         null,
         null,
         "5"
        ],
        [
         "43",
         "KN",
         null,
         "Kenya",
         "Nairobi Stock Exchange",
         "XNAI",
         null,
         null,
         "5"
        ],
        [
         "44",
         "KK",
         null,
         "Kuwait",
         "Kuwait Stock Exchange",
         "XKUW",
         null,
         null,
         "33"
        ],
        [
         "45",
         "LX",
         null,
         "Luxembourg",
         "Luxembourg Stock Exchange",
         "XLUX",
         null,
         null,
         "1"
        ],
        [
         "46",
         "MK",
         null,
         "Malaysia",
         "Bursa Malaysia",
         "XKLS",
         "KUL",
         "KLSE",
         "252"
        ],
        [
         "47",
         "MM",
         null,
         "Mexico",
         "Bolsa Mexicana De Valores (Mexican Stock Exchange)",
         "XMEX",
         "BMV",
         "MX",
         "90"
        ],
        [
         "48",
         "MC",
         null,
         "Morocco",
         "Casablanca Stock Exchange",
         "XCAS",
         null,
         null,
         "12"
        ],
        [
         "49",
         "NZ",
         null,
         "New Zealand",
         "New Zealand Exchange Ltd",
         "XNZE",
         "NZE",
         "NZ",
         "55"
        ]
       ],
       "shape": {
        "columns": 8,
        "rows": 102
       }
      },
      "text/html": [
       "<div>\n",
       "<style scoped>\n",
       "    .dataframe tbody tr th:only-of-type {\n",
       "        vertical-align: middle;\n",
       "    }\n",
       "\n",
       "    .dataframe tbody tr th {\n",
       "        vertical-align: top;\n",
       "    }\n",
       "\n",
       "    .dataframe thead th {\n",
       "        text-align: right;\n",
       "    }\n",
       "</style>\n",
       "<table border=\"1\" class=\"dataframe\">\n",
       "  <thead>\n",
       "    <tr style=\"text-align: right;\">\n",
       "      <th></th>\n",
       "      <th>BloombergExchangeCode</th>\n",
       "      <th>BloombergCompositeCode</th>\n",
       "      <th>Country</th>\n",
       "      <th>Description</th>\n",
       "      <th>ISOMIC</th>\n",
       "      <th>Google Prefix</th>\n",
       "      <th>EODcode</th>\n",
       "      <th>NumStocks</th>\n",
       "    </tr>\n",
       "  </thead>\n",
       "  <tbody>\n",
       "    <tr>\n",
       "      <th>0</th>\n",
       "      <td>AF</td>\n",
       "      <td>AR</td>\n",
       "      <td>Argentina</td>\n",
       "      <td>Bolsa de Comercio de Buenos Aires</td>\n",
       "      <td>XBUE</td>\n",
       "      <td>NaN</td>\n",
       "      <td>BA</td>\n",
       "      <td>12</td>\n",
       "    </tr>\n",
       "    <tr>\n",
       "      <th>1</th>\n",
       "      <td>AO</td>\n",
       "      <td>AU</td>\n",
       "      <td>Australia</td>\n",
       "      <td>National Stock Exchange of Australia</td>\n",
       "      <td>XNEC</td>\n",
       "      <td>NaN</td>\n",
       "      <td>NaN</td>\n",
       "      <td>1</td>\n",
       "    </tr>\n",
       "    <tr>\n",
       "      <th>2</th>\n",
       "      <td>AT</td>\n",
       "      <td>AU</td>\n",
       "      <td>Australia</td>\n",
       "      <td>Asx - All Markets</td>\n",
       "      <td>XASX</td>\n",
       "      <td>ASX</td>\n",
       "      <td>AU</td>\n",
       "      <td>875</td>\n",
       "    </tr>\n",
       "    <tr>\n",
       "      <th>3</th>\n",
       "      <td>AV</td>\n",
       "      <td>NaN</td>\n",
       "      <td>Austria</td>\n",
       "      <td>Wiener Boerse Ag</td>\n",
       "      <td>XWBO</td>\n",
       "      <td>VIE</td>\n",
       "      <td>VI</td>\n",
       "      <td>38</td>\n",
       "    </tr>\n",
       "    <tr>\n",
       "      <th>4</th>\n",
       "      <td>BI</td>\n",
       "      <td>NaN</td>\n",
       "      <td>Bahrain</td>\n",
       "      <td>Bahrain Bourse</td>\n",
       "      <td>XBAH</td>\n",
       "      <td>NaN</td>\n",
       "      <td>NaN</td>\n",
       "      <td>4</td>\n",
       "    </tr>\n",
       "    <tr>\n",
       "      <th>...</th>\n",
       "      <td>...</td>\n",
       "      <td>...</td>\n",
       "      <td>...</td>\n",
       "      <td>...</td>\n",
       "      <td>...</td>\n",
       "      <td>...</td>\n",
       "      <td>...</td>\n",
       "      <td>...</td>\n",
       "    </tr>\n",
       "    <tr>\n",
       "      <th>97</th>\n",
       "      <td>UR</td>\n",
       "      <td>US</td>\n",
       "      <td>USA</td>\n",
       "      <td>NASDAQ Capital Market</td>\n",
       "      <td>XNCM</td>\n",
       "      <td>NASDAQ</td>\n",
       "      <td>US</td>\n",
       "      <td>2,209</td>\n",
       "    </tr>\n",
       "    <tr>\n",
       "      <th>98</th>\n",
       "      <td>UV</td>\n",
       "      <td>US</td>\n",
       "      <td>USA</td>\n",
       "      <td>OTC markets</td>\n",
       "      <td>OOTC</td>\n",
       "      <td>OTCMKTS</td>\n",
       "      <td>US</td>\n",
       "      <td>2,433</td>\n",
       "    </tr>\n",
       "    <tr>\n",
       "      <th>99</th>\n",
       "      <td>UW</td>\n",
       "      <td>US</td>\n",
       "      <td>USA</td>\n",
       "      <td>NASDAQ Global Select</td>\n",
       "      <td>XNGS</td>\n",
       "      <td>NASDAQ</td>\n",
       "      <td>US</td>\n",
       "      <td>1,768</td>\n",
       "    </tr>\n",
       "    <tr>\n",
       "      <th>100</th>\n",
       "      <td>VH</td>\n",
       "      <td>VN</td>\n",
       "      <td>Vietnam</td>\n",
       "      <td>Hanoi Stock Exchange</td>\n",
       "      <td>HSTC</td>\n",
       "      <td>NaN</td>\n",
       "      <td>NaN</td>\n",
       "      <td>4</td>\n",
       "    </tr>\n",
       "    <tr>\n",
       "      <th>101</th>\n",
       "      <td>VM</td>\n",
       "      <td>VN</td>\n",
       "      <td>Vietnam</td>\n",
       "      <td>Hochiminh Stock Exchange</td>\n",
       "      <td>XSTC</td>\n",
       "      <td>NaN</td>\n",
       "      <td>VN</td>\n",
       "      <td>40</td>\n",
       "    </tr>\n",
       "  </tbody>\n",
       "</table>\n",
       "<p>102 rows × 8 columns</p>\n",
       "</div>"
      ],
      "text/plain": [
       "    BloombergExchangeCode BloombergCompositeCode    Country  \\\n",
       "0                      AF                     AR  Argentina   \n",
       "1                      AO                     AU  Australia   \n",
       "2                      AT                     AU  Australia   \n",
       "3                      AV                    NaN    Austria   \n",
       "4                      BI                    NaN    Bahrain   \n",
       "..                    ...                    ...        ...   \n",
       "97                     UR                     US        USA   \n",
       "98                     UV                     US        USA   \n",
       "99                     UW                     US        USA   \n",
       "100                    VH                     VN    Vietnam   \n",
       "101                    VM                     VN    Vietnam   \n",
       "\n",
       "                              Description ISOMIC Google Prefix EODcode  \\\n",
       "0       Bolsa de Comercio de Buenos Aires   XBUE           NaN      BA   \n",
       "1    National Stock Exchange of Australia   XNEC           NaN     NaN   \n",
       "2                       Asx - All Markets   XASX           ASX      AU   \n",
       "3                        Wiener Boerse Ag   XWBO           VIE      VI   \n",
       "4                          Bahrain Bourse   XBAH           NaN     NaN   \n",
       "..                                    ...    ...           ...     ...   \n",
       "97                  NASDAQ Capital Market   XNCM        NASDAQ      US   \n",
       "98                            OTC markets   OOTC       OTCMKTS      US   \n",
       "99                   NASDAQ Global Select   XNGS        NASDAQ      US   \n",
       "100                  Hanoi Stock Exchange   HSTC           NaN     NaN   \n",
       "101              Hochiminh Stock Exchange   XSTC           NaN      VN   \n",
       "\n",
       "    NumStocks  \n",
       "0          12  \n",
       "1           1  \n",
       "2         875  \n",
       "3          38  \n",
       "4           4  \n",
       "..        ...  \n",
       "97      2,209  \n",
       "98      2,433  \n",
       "99      1,768  \n",
       "100         4  \n",
       "101        40  \n",
       "\n",
       "[102 rows x 8 columns]"
      ]
     },
     "execution_count": 38,
     "metadata": {},
     "output_type": "execute_result"
    }
   ],
   "source": [
    "df3 = pd.read_csv(\"stock_exchanges.tsv\", sep=\"\\t\")\n",
    "df3"
   ]
  },
  {
   "cell_type": "code",
   "execution_count": 39,
   "metadata": {},
   "outputs": [
    {
     "name": "stdout",
     "output_type": "stream",
     "text": [
      "['XBUE', 'XNEC', 'XASX', 'XWBO', 'XBAH', 'XDHA', 'XBRU', 'BVMF', 'XCNQ', 'XTSE']\n"
     ]
    }
   ],
   "source": [
    "exchanges = df3[\"ISOMIC\"].tolist() + df3[\"Google Prefix\"].tolist() + df3[\"Description\"].tolist()\n",
    "print(exchanges[:10])"
   ]
  },
  {
   "cell_type": "code",
   "execution_count": 40,
   "metadata": {},
   "outputs": [],
   "source": [
    "stops = [\"two\"]\n",
    "nlp = spacy.blank(\"en\")\n",
    "ruler = nlp.add_pipe(\"entity_ruler\")\n",
    "letters = \"ABCDEFGHIJKLMNOPQRSTUVWXYZ\"\n",
    "patterns = []\n",
    "for symbol in symbols:\n",
    "    patterns.append({\"label\": \"STOCK\", \"pattern\": symbol})\n",
    "    for l in letters:\n",
    "        patterns.append({\"label\": \"STOCK\", \"pattern\": symbol+f\".{l}\"})\n",
    "for company in companies:\n",
    "    if company not in stops:\n",
    "        patterns.append({\"label\": \"COMPANY\", \"pattern\": company})\n",
    "        \n",
    "for index in indexes:\n",
    "    patterns.append({\"label\": \"INDEX\", \"pattern\": index})\n",
    "    words = index.split()\n",
    "    patterns.append({\"label\": \"INDEX\", \"pattern\": \" \".join(words[:2])})\n",
    "for index_symbol in index_symbols:\n",
    "    patterns.append({\"label\": \"INDEX_SYMBOL\", \"pattern\": index_symbol})\n",
    "    for l in letters:\n",
    "        patterns.append({\"label\": \"STOCK\", \"pattern\": index_symbol+f\".{l}\"})\n",
    "        \n",
    "for e in exchanges:\n",
    "    patterns.append({\"label\": \"STOCK_EXCHANGE\", \"pattern\": e})\n",
    "        \n",
    "ruler.add_patterns(patterns)"
   ]
  },
  {
   "cell_type": "code",
   "execution_count": 41,
   "metadata": {},
   "outputs": [
    {
     "name": "stdout",
     "output_type": "stream",
     "text": [
      "Apple COMPANY\n",
      "Apple COMPANY\n",
      "AAPL.O STOCK\n",
      "Apple COMPANY\n",
      "Nasdaq COMPANY\n",
      "S&P 500 INDEX\n",
      "S&P 500 INDEX\n",
      "ET STOCK\n",
      "Dow Jones Industrial Average INDEX\n",
      "S&P 500 INDEX\n",
      "Nasdaq COMPANY\n",
      "S&P 500 INDEX\n",
      "JD.com COMPANY\n",
      "TME.N STOCK\n",
      "NIO.N STOCK\n",
      "Kroger COMPANY\n",
      "KR.N STOCK\n",
      "NYSE STOCK_EXCHANGE\n",
      "Nasdaq COMPANY\n",
      "Nasdaq COMPANY\n"
     ]
    }
   ],
   "source": [
    "doc = nlp(text) \n",
    "for ent in doc.ents:\n",
    "    print(ent.text, ent.label_)\n"
   ]
  },
  {
   "cell_type": "code",
   "execution_count": null,
   "metadata": {},
   "outputs": [],
   "source": []
  }
 ],
 "metadata": {
  "kernelspec": {
   "display_name": "Python 3",
   "language": "python",
   "name": "python3"
  },
  "language_info": {
   "codemirror_mode": {
    "name": "ipython",
    "version": 3
   },
   "file_extension": ".py",
   "mimetype": "text/x-python",
   "name": "python",
   "nbconvert_exporter": "python",
   "pygments_lexer": "ipython3",
   "version": "3.12.3"
  }
 },
 "nbformat": 4,
 "nbformat_minor": 2
}
