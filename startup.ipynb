{
 "cells": [
  {
   "cell_type": "code",
   "execution_count": 34,
   "metadata": {},
   "outputs": [],
   "source": [
    "# !pip install -U pip setuptools wheel\n",
    "# !pip install -U spacy\n",
    "# !python -m spacy download en_core_web_sm\n",
    "# !python -m spacy download pt_core_news_sm --user"
   ]
  },
  {
   "cell_type": "code",
   "execution_count": 35,
   "metadata": {},
   "outputs": [],
   "source": [
    "import spacy"
   ]
  },
  {
   "cell_type": "code",
   "execution_count": 36,
   "metadata": {},
   "outputs": [],
   "source": [
    "# Criando instância\n",
    "nlp = spacy.load(\"pt_core_news_sm\")"
   ]
  },
  {
   "cell_type": "code",
   "execution_count": 37,
   "metadata": {},
   "outputs": [
    {
     "name": "stdout",
     "output_type": "stream",
     "text": [
      "Brasil (localmente [bɾaˈziw][c]), oficialmente República Federativa do Brasil,[11] é o maior país da América do Sul e da região da América Latina, sendo o quinto maior do mundo em área territorial (equivalente a 47,3% do território sul-americano), com 8 510 417,771 km²,[4][12][13] e o sétimo em população[14][15] (com 212 milhões de habitantes, em julho de 2024).[16] É o único país na América onde se fala majoritariamente a língua portuguesa e o maior país lusófono do planeta,[17] além de ser uma das nações mais multiculturais e etnicamente diversas, em decorrência da forte imigração oriunda de variados locais do mundo. Sua atual constituição, promulgada em 1988, concebe o Brasil como uma república federativa presidencialista,[11] formada pela união dos 26 estados, do Distrito Federal e dos 5 571 municípios.[11][18][nota 1]\n",
      "\n",
      "Banhado pelo Oceano Atlântico, o Brasil tem um litoral de 7 491 km[17] e faz fronteira com todos os outros países sul-americanos, exceto Chile e Equador, sendo limitado a norte pela Venezuela, Guiana, Suriname e pelo departamento ultramarino francês da Guiana Francesa; a noroeste pela Colômbia; a oeste pela Bolívia e Peru; a sudoeste pela Argentina e Paraguai e ao sul pelo Uruguai. Vários arquipélagos formam parte do território brasileiro, como o Atol das Rocas, o Arquipélago de São Pedro e São Paulo, Fernando de Noronha (o único destes habitado por civis) e Trindade e Martim Vaz.[17] O Brasil também é o lar de uma diversidade de animais selvagens, ecossistemas e de vastos recursos naturais em uma grande variedade de habitats protegidos.[17]\n",
      "\n",
      "O território que atualmente forma o Brasil foi oficialmente descoberto pelos portugueses em 22 de abril de 1500, em expedição liderada por Pedro Álvares Cabral. Segundo alguns historiadores como Antonio de Herrera e Pietro d'Anghiera, o encontro do território teria sido três meses antes, em 26 de janeiro, pelo navegador espanhol Vicente Yáñez Pinzón, durante uma expedição sob seu comando. A região, então habitada por indígenas ameríndios divididos entre milhares de grupos étnicos e linguísticos diferentes, cabia a Portugal pelo Tratado de Tordesilhas, e tornou-se uma colônia do Império Português.[20] O vínculo colonial foi rompido, de fato, em 1808, quando a capital do reino foi transferida de Lisboa para a cidade do Rio de Janeiro, depois de tropas francesas comandadas por Napoleão Bonaparte invadirem o território português.[21] Em 1815, o Brasil se torna parte de um reino unido com Portugal. Dom Pedro I, o primeiro imperador, proclamou a independência política do país em 1822. Inicialmente independente como um império, período no qual foi uma monarquia constitucional parlamentarista, o Brasil tornou-se uma república em 1889, em razão de um golpe militar chefiado pelo marechal Deodoro da Fonseca (o primeiro presidente), embora uma legislatura bicameral, agora chamada de Congresso Nacional, já existisse desde a ratificação da primeira Constituição, em 1824.[21] Desde o início do período republicano, a governança democrática foi interrompida por longos períodos de regimes autoritários, até um governo civil e eleito democraticamente assumir o poder em 1985, com o fim da ditadura militar.[22]\n",
      "\n",
      "Como potência regional e média,[23] a nação tem reconhecimento e influência internacional, sendo que também é classificada como uma potência global emergente[24] e como uma potencial superpotência por vários analistas.[25] O PIB nominal brasileiro é o nono maior do mundo[26] e o oitavo por paridade do poder de compra (PPC), sendo, em ambos, o maior da América Latina e do Hemisfério Sul.[27] O país é um dos principais celeiros do planeta, sendo o maior produtor de café dos últimos 150 anos,[28] além de ser classificado como uma economia de renda média-alta pelo Banco Mundial[29] e como um país recentemente industrializado, que detém a maior parcela de riqueza global e a ecomomia mais complexa da América do Sul. No entanto, o país ainda mantém níveis notáveis de corrupção, criminalidade e desigualdade social. É membro fundador da Organização das Nações Unidas (ONU), G20, BRICS, Comunidade dos Países de Língua Portuguesa (CPLP), União Latina, Organização dos Estados Americanos (OEA), Organização dos Estados Ibero-americanos (OEI) e Mercado Comum do Sul (Mercosul). \n"
     ]
    }
   ],
   "source": [
    "with open(\"wiki_br.txt\", \"r\", encoding=\"utf8\") as f:\n",
    "    text = f.read()\n",
    "print(text)"
   ]
  },
  {
   "cell_type": "code",
   "execution_count": 38,
   "metadata": {},
   "outputs": [
    {
     "name": "stdout",
     "output_type": "stream",
     "text": [
      "Brasil (localmente [bɾaˈziw][c]), oficialmente República Federativa do Brasil,[11] é o maior país da América do Sul e da região da América Latina, sendo o quinto maior do mundo em área territorial (equivalente a 47,3% do território sul-americano), com 8 510 417,771 km²,[4][12][13] e o sétimo em população[14][15] (com 212 milhões de habitantes, em julho de 2024).[16] É o único país na América onde se fala majoritariamente a língua portuguesa e o maior país lusófono do planeta,[17] além de ser uma das nações mais multiculturais e etnicamente diversas, em decorrência da forte imigração oriunda de variados locais do mundo. Sua atual constituição, promulgada em 1988, concebe o Brasil como uma república federativa presidencialista,[11] formada pela união dos 26 estados, do Distrito Federal e dos 5 571 municípios.[11][18][nota 1]\n",
      "\n",
      "Banhado pelo Oceano Atlântico, o Brasil tem um litoral de 7 491 km[17] e faz fronteira com todos os outros países sul-americanos, exceto Chile e Equador, sendo limitado a norte pela Venezuela, Guiana, Suriname e pelo departamento ultramarino francês da Guiana Francesa; a noroeste pela Colômbia; a oeste pela Bolívia e Peru; a sudoeste pela Argentina e Paraguai e ao sul pelo Uruguai. Vários arquipélagos formam parte do território brasileiro, como o Atol das Rocas, o Arquipélago de São Pedro e São Paulo, Fernando de Noronha (o único destes habitado por civis) e Trindade e Martim Vaz.[17] O Brasil também é o lar de uma diversidade de animais selvagens, ecossistemas e de vastos recursos naturais em uma grande variedade de habitats protegidos.[17]\n",
      "\n",
      "O território que atualmente forma o Brasil foi oficialmente descoberto pelos portugueses em 22 de abril de 1500, em expedição liderada por Pedro Álvares Cabral. Segundo alguns historiadores como Antonio de Herrera e Pietro d'Anghiera, o encontro do território teria sido três meses antes, em 26 de janeiro, pelo navegador espanhol Vicente Yáñez Pinzón, durante uma expedição sob seu comando. A região, então habitada por indígenas ameríndios divididos entre milhares de grupos étnicos e linguísticos diferentes, cabia a Portugal pelo Tratado de Tordesilhas, e tornou-se uma colônia do Império Português.[20] O vínculo colonial foi rompido, de fato, em 1808, quando a capital do reino foi transferida de Lisboa para a cidade do Rio de Janeiro, depois de tropas francesas comandadas por Napoleão Bonaparte invadirem o território português.[21] Em 1815, o Brasil se torna parte de um reino unido com Portugal. Dom Pedro I, o primeiro imperador, proclamou a independência política do país em 1822. Inicialmente independente como um império, período no qual foi uma monarquia constitucional parlamentarista, o Brasil tornou-se uma república em 1889, em razão de um golpe militar chefiado pelo marechal Deodoro da Fonseca (o primeiro presidente), embora uma legislatura bicameral, agora chamada de Congresso Nacional, já existisse desde a ratificação da primeira Constituição, em 1824.[21] Desde o início do período republicano, a governança democrática foi interrompida por longos períodos de regimes autoritários, até um governo civil e eleito democraticamente assumir o poder em 1985, com o fim da ditadura militar.[22]\n",
      "\n",
      "Como potência regional e média,[23] a nação tem reconhecimento e influência internacional, sendo que também é classificada como uma potência global emergente[24] e como uma potencial superpotência por vários analistas.[25] O PIB nominal brasileiro é o nono maior do mundo[26] e o oitavo por paridade do poder de compra (PPC), sendo, em ambos, o maior da América Latina e do Hemisfério Sul.[27] O país é um dos principais celeiros do planeta, sendo o maior produtor de café dos últimos 150 anos,[28] além de ser classificado como uma economia de renda média-alta pelo Banco Mundial[29] e como um país recentemente industrializado, que detém a maior parcela de riqueza global e a ecomomia mais complexa da América do Sul. No entanto, o país ainda mantém níveis notáveis de corrupção, criminalidade e desigualdade social. É membro fundador da Organização das Nações Unidas (ONU), G20, BRICS, Comunidade dos Países de Língua Portuguesa (CPLP), União Latina, Organização dos Estados Americanos (OEA), Organização dos Estados Ibero-americanos (OEI) e Mercado Comum do Sul (Mercosul). \n"
     ]
    }
   ],
   "source": [
    "# O objeto nlp separa o doc em tokens (tokenização).\n",
    "doc = nlp(text)\n",
    "print(doc)"
   ]
  },
  {
   "cell_type": "code",
   "execution_count": 39,
   "metadata": {},
   "outputs": [
    {
     "name": "stdout",
     "output_type": "stream",
     "text": [
      "4285\n",
      "775\n"
     ]
    }
   ],
   "source": [
    "print(len(text))\n",
    "print(len(doc))"
   ]
  },
  {
   "cell_type": "code",
   "execution_count": 40,
   "metadata": {},
   "outputs": [
    {
     "name": "stdout",
     "output_type": "stream",
     "text": [
      "B\n",
      "r\n",
      "a\n",
      "s\n",
      "i\n",
      "l\n",
      " \n",
      "(\n",
      "l\n",
      "o\n"
     ]
    }
   ],
   "source": [
    "for letter in text[0:10]:\n",
    "    print(letter)"
   ]
  },
  {
   "cell_type": "code",
   "execution_count": 41,
   "metadata": {},
   "outputs": [
    {
     "name": "stdout",
     "output_type": "stream",
     "text": [
      "Brasil\n",
      "(localmente\n",
      "[bɾaˈziw][c]),\n",
      "oficialmente\n",
      "República\n",
      "Federativa\n",
      "do\n",
      "Brasil,[11]\n",
      "é\n",
      "o\n"
     ]
    }
   ],
   "source": [
    "for not_token in text.split()[:10]:\n",
    "    print(not_token)"
   ]
  },
  {
   "cell_type": "code",
   "execution_count": 42,
   "metadata": {},
   "outputs": [
    {
     "name": "stdout",
     "output_type": "stream",
     "text": [
      "Brasil\n",
      "(\n",
      "localmente\n",
      "[\n",
      "bɾaˈziw][c\n",
      "]\n",
      ")\n",
      ",\n",
      "oficialmente\n",
      "República\n"
     ]
    }
   ],
   "source": [
    "# Tokenização é diferente do split, pois detecta além da separação \n",
    "# por espaço e adiciona atributos aos tokens.\n",
    "for token in doc[0:10]:\n",
    "    print(token)"
   ]
  },
  {
   "cell_type": "code",
   "execution_count": 43,
   "metadata": {},
   "outputs": [
    {
     "name": "stdout",
     "output_type": "stream",
     "text": [
      "Brasil (localmente [bɾaˈziw][c]), oficialmente República Federativa do Brasil,[11] é o maior país da América do Sul e da região da América Latina, sendo o quinto maior do mundo em área territorial (equivalente a 47,3% do território sul-americano), com 8 510 417,771 km²,[4][12][13] e o sétimo em população[14][15] (com 212 milhões de habitantes, em julho de 2024).[16]\n",
      "É o único país na América onde se fala majoritariamente a língua portuguesa e o maior país lusófono do planeta,[17] além de ser uma das nações mais multiculturais e etnicamente diversas, em decorrência da forte imigração oriunda de variados locais do mundo.\n",
      "Sua atual constituição, promulgada em 1988, concebe o Brasil como uma república federativa presidencialista,[11] formada pela união dos 26 estados, do Distrito Federal e dos 5 571 municípios.[11][18][nota 1]\n",
      "\n",
      "Banhado pelo Oceano Atlântico, o Brasil tem um litoral de 7 491 km[17] e faz fronteira com todos os outros países sul-americanos, exceto Chile e Equador, sendo limitado a norte pela Venezuela, Guiana, Suriname e pelo departamento ultramarino francês da Guiana Francesa; a noroeste pela Colômbia;\n",
      "a oeste pela Bolívia e Peru; a sudoeste pela Argentina e Paraguai e ao sul pelo Uruguai.\n",
      "Vários arquipélagos formam parte do território brasileiro, como o Atol das Rocas, o Arquipélago de São Pedro e São Paulo, Fernando de Noronha (o único destes habitado por civis) e Trindade e Martim Vaz.[17]\n",
      "O Brasil também é o lar de uma diversidade de animais selvagens, ecossistemas e de vastos recursos naturais em uma grande variedade de habitats protegidos.[17]\n",
      "\n",
      "\n",
      "O território que atualmente forma o Brasil foi oficialmente descoberto pelos portugueses em 22 de abril de 1500, em expedição liderada por Pedro Álvares Cabral.\n",
      "Segundo alguns historiadores como Antonio de Herrera e Pietro d'Anghiera, o encontro do território teria sido três meses antes, em 26 de janeiro, pelo navegador espanhol Vicente Yáñez Pinzón, durante uma expedição sob seu comando.\n",
      "A região, então habitada por indígenas ameríndios divididos entre milhares de grupos étnicos e linguísticos diferentes, cabia a Portugal pelo Tratado de Tordesilhas, e tornou-se uma colônia do Império Português.[20]\n",
      "O vínculo colonial foi rompido, de fato, em 1808, quando a capital do reino foi transferida de Lisboa para a cidade do Rio de Janeiro, depois de tropas francesas comandadas por Napoleão Bonaparte invadirem o território português.[21]\n",
      "Em 1815, o Brasil se torna parte de um reino unido com Portugal.\n",
      "Dom Pedro I, o primeiro imperador, proclamou a independência política do país em 1822.\n",
      "Inicialmente independente como um império, período no qual foi uma monarquia constitucional parlamentarista, o Brasil tornou-se uma república em 1889, em razão de um golpe militar chefiado pelo marechal Deodoro da Fonseca (o primeiro presidente), embora uma legislatura bicameral, agora chamada de Congresso Nacional, já existisse desde a ratificação da primeira Constituição, em 1824.[21]\n",
      "Desde o início do período republicano, a governança democrática foi interrompida por longos períodos de regimes autoritários, até um governo civil e eleito democraticamente assumir o poder em 1985, com o fim da ditadura militar.[22]\n",
      "\n",
      "\n",
      "Como potência regional e média,[23] a nação tem reconhecimento e influência internacional, sendo que também é classificada como uma potência global emergente[24] e como uma potencial superpotência por vários analistas.[25]\n",
      "O PIB nominal brasileiro é o nono maior do mundo[26] e o oitavo por paridade do poder de compra (PPC), sendo, em ambos, o maior da América Latina e do Hemisfério Sul.[27]\n",
      "O país é um dos principais celeiros do planeta, sendo o maior produtor de café dos últimos 150 anos,[28] além de ser classificado como uma economia de renda média-alta pelo Banco Mundial[29] e como um país recentemente industrializado, que detém a maior parcela de riqueza global e a ecomomia mais complexa da América do Sul.\n",
      "No entanto, o país ainda mantém níveis notáveis de corrupção, criminalidade e desigualdade social.\n",
      "É membro fundador da Organização das Nações Unidas (ONU), G20, BRICS, Comunidade dos Países de Língua Portuguesa (CPLP), União Latina, Organização dos Estados Americanos (OEA), Organização dos Estados Ibero-americanos (OEI) e Mercado Comum do Sul (Mercosul).\n"
     ]
    }
   ],
   "source": [
    "# Da mesma forma, a sentenciação (.sents) é diferente do split(\".\").\n",
    "# Separando as sentenças em spans.\n",
    "for sent in doc.sents:\n",
    "    print(sent)"
   ]
  },
  {
   "cell_type": "code",
   "execution_count": 44,
   "metadata": {},
   "outputs": [
    {
     "name": "stdout",
     "output_type": "stream",
     "text": [
      "Brasil (localmente [bɾaˈziw][c]), oficialmente República Federativa do Brasil,[11] é o maior país da América do Sul e da região da América Latina, sendo o quinto maior do mundo em área territorial (equivalente a 47,3% do território sul-americano), com 8 510 417,771 km²,[4][12][13] e o sétimo em população[14][15] (com 212 milhões de habitantes, em julho de 2024).[16]\n",
      "<class 'spacy.tokens.span.Span'>\n"
     ]
    }
   ],
   "source": [
    "# Para acessar as spans por index, tem que converter para lista\n",
    "sent_1 = list(doc.sents)[0]\n",
    "print(sent_1)\n",
    "print(type(sent_1))"
   ]
  },
  {
   "cell_type": "code",
   "execution_count": 45,
   "metadata": {},
   "outputs": [
    {
     "name": "stdout",
     "output_type": "stream",
     "text": [
      "República\n",
      "<class 'spacy.tokens.token.Token'>\n"
     ]
    }
   ],
   "source": [
    "token_1 = sent_1[9]\n",
    "print(token_1)\n",
    "print(type(token_1))"
   ]
  },
  {
   "cell_type": "code",
   "execution_count": 61,
   "metadata": {},
   "outputs": [
    {
     "name": "stdout",
     "output_type": "stream",
     "text": [
      "Text: República\n",
      "Left: ,\n",
      "Righ: Brasil,[11\n",
      "Type: #385\n",
      "Type: LOC\n",
      "Loca: B\n",
      "Lema: República\n",
      "Morp: Gender=Fem|Number=Sing\n",
      "PoS : PROPN\n",
      "Dep : conj\n",
      "Lang: pt\n"
     ]
    }
   ],
   "source": [
    "print(f\"Text: {token_1.text}\") # String de texto do token\n",
    "print(f\"Left: {token_1.left_edge}\") # Elemento antes da entidade\n",
    "print(f\"Righ: {token_1.right_edge}\") # Elemento depois da entidade\n",
    "print(f\"Type: #{token_1.ent_type}\") # Nº do tipo de entidade\n",
    "print(f\"Type: {token_1.ent_type_}\") # Nome do tipo de entidade - específico\n",
    "print(f\"Loca: {token_1.ent_iob_}\") # I-inside, B-begining, O-outside entidade\n",
    "print(f\"Lema: {token_1.lemma_}\") # Lema, sem inflexões\n",
    "print(f\"Morp: {token_1.morph}\") # Morfossintaxe\n",
    "print(f\"PoS : {token_1.pos_}\") # PoS tag: PROPN proper noun\n",
    "print(f\"Dep : {token_1.dep_}\") # Dependência sintática: conj, conjunct, parte de conjunção\n",
    "print(f\"Lang: {token_1.lang_}\") # Idioma\n"
   ]
  },
  {
   "cell_type": "code",
   "execution_count": null,
   "metadata": {},
   "outputs": [],
   "source": []
  }
 ],
 "metadata": {
  "kernelspec": {
   "display_name": "Python 3",
   "language": "python",
   "name": "python3"
  },
  "language_info": {
   "codemirror_mode": {
    "name": "ipython",
    "version": 3
   },
   "file_extension": ".py",
   "mimetype": "text/x-python",
   "name": "python",
   "nbconvert_exporter": "python",
   "pygments_lexer": "ipython3",
   "version": "3.12.3"
  }
 },
 "nbformat": 4,
 "nbformat_minor": 2
}
